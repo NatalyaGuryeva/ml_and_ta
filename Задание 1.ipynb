{
 "cells": [
  {
   "cell_type": "code",
   "execution_count": 60,
   "id": "21b1f191",
   "metadata": {},
   "outputs": [],
   "source": [
    "import pandas as pd\n",
    "\n",
    "data = pd.read_csv(\"C:/Users/f1shs/Downloads/wos_stop_2.csv\") \n",
    "data = list(data['mystops'])"
   ]
  },
  {
   "cell_type": "code",
   "execution_count": 64,
   "id": "2927430b",
   "metadata": {},
   "outputs": [],
   "source": [
    "for i in range(len(data)):\n",
    "    data[i] = str(data[i])"
   ]
  },
  {
   "cell_type": "code",
   "execution_count": 70,
   "id": "280dbcc8",
   "metadata": {},
   "outputs": [],
   "source": [
    "def count_xletter_words(list, x): #подсчитываем количество слов длины x в файле list\n",
    "    count = 0\n",
    "    for i in list: \n",
    "        if len(i) == x:\n",
    "            count += 1\n",
    "    return count"
   ]
  },
  {
   "cell_type": "code",
   "execution_count": 71,
   "id": "536ce8ed",
   "metadata": {},
   "outputs": [
    {
     "data": {
      "text/plain": [
       "0"
      ]
     },
     "execution_count": 71,
     "metadata": {},
     "output_type": "execute_result"
    }
   ],
   "source": [
    "count_xletter_words(data, 1)"
   ]
  },
  {
   "cell_type": "code",
   "execution_count": 72,
   "id": "f1e5f95a",
   "metadata": {},
   "outputs": [
    {
     "data": {
      "text/plain": [
       "647"
      ]
     },
     "execution_count": 72,
     "metadata": {},
     "output_type": "execute_result"
    }
   ],
   "source": [
    "count_xletter_words(data, 2)"
   ]
  },
  {
   "cell_type": "code",
   "execution_count": 73,
   "id": "80c2c5b2",
   "metadata": {},
   "outputs": [
    {
     "data": {
      "text/plain": [
       "5938"
      ]
     },
     "execution_count": 73,
     "metadata": {},
     "output_type": "execute_result"
    }
   ],
   "source": [
    "count_xletter_words(data, 3)"
   ]
  },
  {
   "cell_type": "code",
   "execution_count": 80,
   "id": "d5a7cf6f",
   "metadata": {},
   "outputs": [],
   "source": [
    "with open(\"C:/Users/f1shs/Downloads/result.txt\", 'w') as file: \n",
    "    for i in range(1,4):\n",
    "        file.write(str(count_xletter_words(data, i))) \n",
    "        file.write('\\n')"
   ]
  }
 ],
 "metadata": {
  "kernelspec": {
   "display_name": "Python 3 (ipykernel)",
   "language": "python",
   "name": "python3"
  },
  "language_info": {
   "codemirror_mode": {
    "name": "ipython",
    "version": 3
   },
   "file_extension": ".py",
   "mimetype": "text/x-python",
   "name": "python",
   "nbconvert_exporter": "python",
   "pygments_lexer": "ipython3",
   "version": "3.9.13"
  }
 },
 "nbformat": 4,
 "nbformat_minor": 5
}
